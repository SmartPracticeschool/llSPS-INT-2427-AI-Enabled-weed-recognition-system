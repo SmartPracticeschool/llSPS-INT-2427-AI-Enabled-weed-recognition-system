{
 "cells": [
  {
   "cell_type": "code",
   "execution_count": 9,
   "metadata": {},
   "outputs": [],
   "source": [
    "from keras.preprocessing.image import ImageDataGenerator"
   ]
  },
  {
   "cell_type": "code",
   "execution_count": 10,
   "metadata": {},
   "outputs": [],
   "source": [
    "train_datagen = ImageDataGenerator(rescale=1./255,shear_range=0.2,zoom_range=0.2,horizontal_flip=True)\n",
    "test_datagen = ImageDataGenerator(rescale=1./255)"
   ]
  },
  {
   "cell_type": "code",
   "execution_count": 11,
   "metadata": {},
   "outputs": [
    {
     "name": "stdout",
     "output_type": "stream",
     "text": [
      "Found 10837 images belonging to 4 classes.\n",
      "Found 4499 images belonging to 4 classes.\n"
     ]
    }
   ],
   "source": [
    "x_train = train_datagen.flow_from_directory(r\"D:\\Weed Project\\dataset\\trainset\",target_size=(64,64),batch_size=32,class_mode='categorical')\n",
    "x_test = train_datagen.flow_from_directory(r\"D:\\Weed Project\\dataset\\testset\",target_size=(64,64),batch_size=32,class_mode='categorical')"
   ]
  },
  {
   "cell_type": "code",
   "execution_count": 12,
   "metadata": {},
   "outputs": [],
   "source": [
    "from keras.models import Sequential\n",
    "from keras.layers import Dense\n",
    "from keras.layers import Conv2D\n",
    "from keras.layers import MaxPooling2D\n",
    "from keras.layers import Flatten"
   ]
  },
  {
   "cell_type": "code",
   "execution_count": 13,
   "metadata": {},
   "outputs": [
    {
     "name": "stderr",
     "output_type": "stream",
     "text": [
      "C:\\Anaconda\\lib\\site-packages\\ipykernel_launcher.py:2: UserWarning: Update your `Conv2D` call to the Keras 2 API: `Conv2D(32, (3, 3), input_shape=(64, 64, 3..., activation=\"relu\")`\n",
      "  \n",
      "C:\\Anaconda\\lib\\site-packages\\ipykernel_launcher.py:5: UserWarning: Update your `Dense` call to the Keras 2 API: `Dense(activation=\"relu\", units=128, kernel_initializer=\"random_uniform\")`\n",
      "  \"\"\"\n",
      "C:\\Anaconda\\lib\\site-packages\\ipykernel_launcher.py:6: UserWarning: Update your `Dense` call to the Keras 2 API: `Dense(activation=\"sigmoid\", units=4, kernel_initializer=\"random_uniform\")`\n",
      "  \n"
     ]
    }
   ],
   "source": [
    "model = Sequential()\n",
    "model.add(Conv2D(32,3,3,input_shape=(64,64,3),activation='relu'))\n",
    "model.add(MaxPooling2D(pool_size=(2,2)))\n",
    "model.add(Flatten())\n",
    "model.add(Dense(output_dim=128,activation='relu',init='random_uniform'))\n",
    "model.add(Dense(output_dim=4,activation='sigmoid',init='random_uniform'))\n",
    "model.compile(optimizer='adam',loss='categorical_crossentropy',metrics=['accuracy'])"
   ]
  },
  {
   "cell_type": "code",
   "execution_count": 14,
   "metadata": {},
   "outputs": [
    {
     "name": "stdout",
     "output_type": "stream",
     "text": [
      "{'broadleaf': 0, 'grass': 1, 'soil': 2, 'soybean': 3}\n"
     ]
    }
   ],
   "source": [
    "print(x_train.class_indices)"
   ]
  },
  {
   "cell_type": "code",
   "execution_count": 15,
   "metadata": {},
   "outputs": [
    {
     "name": "stdout",
     "output_type": "stream",
     "text": [
      "Epoch 1/25\n",
      "339/339 [==============================] - 55s 163ms/step - loss: 0.5572 - accuracy: 0.7720 - val_loss: 0.9070 - val_accuracy: 0.8371\n",
      "Epoch 2/25\n",
      "339/339 [==============================] - 56s 164ms/step - loss: 0.3995 - accuracy: 0.8477 - val_loss: 0.3365 - val_accuracy: 0.8860\n",
      "Epoch 3/25\n",
      "339/339 [==============================] - 61s 179ms/step - loss: 0.3318 - accuracy: 0.8761 - val_loss: 0.1398 - val_accuracy: 0.8904\n",
      "Epoch 4/25\n",
      "339/339 [==============================] - 62s 182ms/step - loss: 0.2766 - accuracy: 0.8955 - val_loss: 0.1585 - val_accuracy: 0.8969\n",
      "Epoch 5/25\n",
      "339/339 [==============================] - 60s 177ms/step - loss: 0.2572 - accuracy: 0.9013 - val_loss: 0.3267 - val_accuracy: 0.8864\n",
      "Epoch 6/25\n",
      "339/339 [==============================] - 61s 180ms/step - loss: 0.2416 - accuracy: 0.9051 - val_loss: 0.5447 - val_accuracy: 0.8128\n",
      "Epoch 7/25\n",
      "339/339 [==============================] - 64s 189ms/step - loss: 0.2280 - accuracy: 0.9115 - val_loss: 0.3420 - val_accuracy: 0.8675\n",
      "Epoch 8/25\n",
      "339/339 [==============================] - 65s 192ms/step - loss: 0.2288 - accuracy: 0.9143 - val_loss: 0.1986 - val_accuracy: 0.9235\n",
      "Epoch 9/25\n",
      "339/339 [==============================] - 63s 186ms/step - loss: 0.2053 - accuracy: 0.9228 - val_loss: 0.3976 - val_accuracy: 0.9182\n",
      "Epoch 10/25\n",
      "339/339 [==============================] - 65s 190ms/step - loss: 0.2061 - accuracy: 0.9195 - val_loss: 0.3038 - val_accuracy: 0.9164\n",
      "Epoch 11/25\n",
      "339/339 [==============================] - 62s 182ms/step - loss: 0.1861 - accuracy: 0.9290 - val_loss: 0.0540 - val_accuracy: 0.9242\n",
      "Epoch 12/25\n",
      "339/339 [==============================] - 61s 179ms/step - loss: 0.1742 - accuracy: 0.9318 - val_loss: 0.0575 - val_accuracy: 0.9233\n",
      "Epoch 13/25\n",
      "339/339 [==============================] - 61s 179ms/step - loss: 0.1749 - accuracy: 0.9326 - val_loss: 0.0283 - val_accuracy: 0.9262\n",
      "Epoch 14/25\n",
      "339/339 [==============================] - 62s 183ms/step - loss: 0.1616 - accuracy: 0.9383 - val_loss: 0.2013 - val_accuracy: 0.9222\n",
      "Epoch 15/25\n",
      "339/339 [==============================] - 62s 184ms/step - loss: 0.1590 - accuracy: 0.9371 - val_loss: 0.0789 - val_accuracy: 0.9235\n",
      "Epoch 16/25\n",
      "339/339 [==============================] - 63s 187ms/step - loss: 0.1585 - accuracy: 0.9404 - val_loss: 0.1998 - val_accuracy: 0.9224\n",
      "Epoch 17/25\n",
      "339/339 [==============================] - 63s 186ms/step - loss: 0.1600 - accuracy: 0.9372 - val_loss: 0.2660 - val_accuracy: 0.9284\n",
      "Epoch 18/25\n",
      "339/339 [==============================] - 64s 189ms/step - loss: 0.1485 - accuracy: 0.9450 - val_loss: 0.3198 - val_accuracy: 0.9231\n",
      "Epoch 19/25\n",
      "339/339 [==============================] - 62s 183ms/step - loss: 0.1450 - accuracy: 0.9423 - val_loss: 0.2404 - val_accuracy: 0.9262\n",
      "Epoch 20/25\n",
      "339/339 [==============================] - 63s 186ms/step - loss: 0.1457 - accuracy: 0.9428 - val_loss: 0.0649 - val_accuracy: 0.9178\n",
      "Epoch 21/25\n",
      "339/339 [==============================] - 62s 184ms/step - loss: 0.1329 - accuracy: 0.9492 - val_loss: 0.1291 - val_accuracy: 0.9186\n",
      "Epoch 22/25\n",
      "339/339 [==============================] - 63s 186ms/step - loss: 0.1270 - accuracy: 0.9516 - val_loss: 0.2807 - val_accuracy: 0.9255\n",
      "Epoch 23/25\n",
      "339/339 [==============================] - 62s 183ms/step - loss: 0.1203 - accuracy: 0.9549 - val_loss: 0.6384 - val_accuracy: 0.9213\n",
      "Epoch 24/25\n",
      "339/339 [==============================] - 63s 185ms/step - loss: 0.1373 - accuracy: 0.9480 - val_loss: 0.2804 - val_accuracy: 0.9255\n",
      "Epoch 25/25\n",
      "339/339 [==============================] - 63s 186ms/step - loss: 0.1140 - accuracy: 0.9570 - val_loss: 0.0202 - val_accuracy: 0.9240\n"
     ]
    },
    {
     "data": {
      "text/plain": [
       "<keras.callbacks.callbacks.History at 0x2622d522988>"
      ]
     },
     "execution_count": 15,
     "metadata": {},
     "output_type": "execute_result"
    }
   ],
   "source": [
    "model.fit_generator(x_train,steps_per_epoch = 339,epochs=25,validation_data=x_test,validation_steps = 141 )"
   ]
  },
  {
   "cell_type": "code",
   "execution_count": 16,
   "metadata": {},
   "outputs": [],
   "source": [
    "model.save(\"weed.h5\")"
   ]
  },
  {
   "cell_type": "code",
   "execution_count": null,
   "metadata": {},
   "outputs": [],
   "source": []
  }
 ],
 "metadata": {
  "kernelspec": {
   "display_name": "Python 3",
   "language": "python",
   "name": "python3"
  },
  "language_info": {
   "codemirror_mode": {
    "name": "ipython",
    "version": 3
   },
   "file_extension": ".py",
   "mimetype": "text/x-python",
   "name": "python",
   "nbconvert_exporter": "python",
   "pygments_lexer": "ipython3",
   "version": "3.7.4"
  }
 },
 "nbformat": 4,
 "nbformat_minor": 2
}
